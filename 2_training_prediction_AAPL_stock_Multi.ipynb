{
  "cells": [
    {
      "cell_type": "code",
      "execution_count": null,
      "id": "adaabc78",
      "metadata": {
        "id": "adaabc78",
        "outputId": "76cb01cb-3ef3-4dc2-c3dc-e0f1b0972ca0"
      },
      "outputs": [
        {
          "data": {
            "text/plain": [
              "<torch._C.Generator at 0x199c6a03630>"
            ]
          },
          "execution_count": 1,
          "metadata": {},
          "output_type": "execute_result"
        }
      ],
      "source": [
        "import torch\n",
        "import torch.nn as nn\n",
        "from torch.autograd import Variable\n",
        "from torch.utils.data import TensorDataset\n",
        "from torch.utils.data import DataLoader\n",
        "\n",
        "import pandas as pd\n",
        "import numpy as np\n",
        "\n",
        "import seaborn as sns\n",
        "import matplotlib.pyplot as plt\n",
        "import plotly.express as px\n",
        "import plotly.graph_objs as go\n",
        "\n",
        "from sklearn.preprocessing import MinMaxScaler\n",
        "from fastprogress import progress_bar\n",
        "\n",
        "import os\n",
        "\n",
        "torch.manual_seed(0) # fix seed"
      ]
    },
    {
      "cell_type": "markdown",
      "id": "e670c95b",
      "metadata": {
        "id": "e670c95b"
      },
      "source": [
        "### Parameters Set based on Model Training Results"
      ]
    },
    {
      "cell_type": "markdown",
      "id": "5130a443",
      "metadata": {
        "id": "5130a443"
      },
      "source": [
        "![Model](https://github.com/MK-ek11/stock_price_forecast_with_LSTM/blob/main/images/model_plot.png?raw=1)"
      ]
    },
    {
      "cell_type": "code",
      "execution_count": null,
      "id": "bf654fd7",
      "metadata": {
        "id": "bf654fd7"
      },
      "outputs": [],
      "source": [
        "# Set Parameter\n",
        "sequence_length = 14\n",
        "batch = 64\n",
        "hidden_size = 50\n",
        "num_epochs = 100"
      ]
    },
    {
      "cell_type": "markdown",
      "id": "44583702",
      "metadata": {
        "id": "44583702"
      },
      "source": [
        "### Set device \n",
        "\n",
        "- use CUDA ref: <https://pytorch.org/tutorials/beginner/basics/quickstart_tutorial.html#creating-models>"
      ]
    },
    {
      "cell_type": "code",
      "execution_count": null,
      "id": "739a152e",
      "metadata": {
        "id": "739a152e",
        "outputId": "ad41ab56-b943-49b4-f45a-f2868a53e6fa"
      },
      "outputs": [
        {
          "name": "stdout",
          "output_type": "stream",
          "text": [
            "Using cuda device\n"
          ]
        }
      ],
      "source": [
        "device = (\n",
        "    \"cuda\"\n",
        "    if torch.cuda.is_available()\n",
        "    else \"mps\"\n",
        "    if torch.backends.mps.is_available()\n",
        "    else \"cpu\"\n",
        ")\n",
        "print(f\"Using {device} device\")"
      ]
    },
    {
      "cell_type": "markdown",
      "id": "473a2641",
      "metadata": {
        "id": "473a2641"
      },
      "source": [
        "### Functions"
      ]
    },
    {
      "cell_type": "code",
      "execution_count": null,
      "id": "d02d49a0",
      "metadata": {
        "id": "d02d49a0"
      },
      "outputs": [],
      "source": [
        "# Create function for getting index of a date\n",
        "def start_date_index(year, month, dataset):\n",
        "    start_date = f\"{year}-{month}\"\n",
        "    index_start_date = dataset[dataset[\"Date\"].str.contains(start_date, regex=False)].index[0]\n",
        "    \n",
        "    print(f\"Index of Date: {index_start_date}\\nStart Date: {dataset.iloc[index_start_date,0]}\", end=\"\\n\"*2)\n",
        "    return index_start_date"
      ]
    },
    {
      "cell_type": "code",
      "execution_count": null,
      "id": "74573448",
      "metadata": {
        "id": "74573448"
      },
      "outputs": [],
      "source": [
        "# Create function for splitting dataset\n",
        "def split_dataset(start_index, sequence_length, dataset):\n",
        "    train_set = dataset.loc[0:start_index-1]\n",
        "    test_set = dataset.loc[start_index-sequence_length:len(dataset)].reset_index(drop=True)\n",
        "    return train_set, test_set"
      ]
    },
    {
      "cell_type": "code",
      "execution_count": null,
      "id": "a6ee3c2b",
      "metadata": {
        "id": "a6ee3c2b"
      },
      "outputs": [],
      "source": [
        "# Create function for Training set Sliding Window\n",
        "def sliding_window_train(sequence_length, input_data):\n",
        "    train = []\n",
        "    target = []\n",
        "\n",
        "    for i in range(sequence_length, len(input_data)):\n",
        "        train.append(input_data[i-sequence_length:i])\n",
        "        target.append(input_data[i])\n",
        "\n",
        "    train = np.array(train)\n",
        "    target = np.array(target)\n",
        "    \n",
        "    print(f\"Train shape: {train.shape}\",\n",
        "         end=\"\\n\"*2)\n",
        "    print(f\"Train:\\nbatch size: {train.shape[0]}\\nsequence length: {train.shape[1]} days\\ninput size: {train.shape[2]}\",\n",
        "          end=\"\\n\"*3)\n",
        "    print(f\"Target shape: {target.shape}\",\n",
        "         end=\"\\n\"*2)    \n",
        "    print(f\"Target:\\nbatch size: {target.shape[0]}\\ninput size: {target.shape[1]}\",\n",
        "          end=\"\\n\"*2)\n",
        "\n",
        "    return train, target"
      ]
    },
    {
      "cell_type": "code",
      "execution_count": null,
      "id": "80fe2ae0",
      "metadata": {
        "id": "80fe2ae0"
      },
      "outputs": [],
      "source": [
        "# Create function for Testing set Sliding Window\n",
        "def sliding_window_test(start_index, sequence_length, input_data_scale, input_data_nonscale, input_date):\n",
        "    test = []\n",
        "    actual = []\n",
        "    date = []\n",
        "    open_price= []\n",
        "\n",
        "    for i in range(start_index, len(input_data_scale)):\n",
        "        test.append(input_data_scale[i-sequence_length:i])\n",
        "        actual.append(input_data_scale[i])\n",
        "        date.append(input_date[i])\n",
        "        open_price.append(input_data_nonscale[i])\n",
        "\n",
        "    test = np.array(test)\n",
        "    actual = np.array(actual)\n",
        "    date = np.array(date)\n",
        "    open_price = np.array(open_price)\n",
        "    \n",
        "    print(f\"Test shape: {test.shape}\",\n",
        "         end=\"\\n\"*2)\n",
        "    print(f\"Test:\\nbatch size: {test.shape[0]}\\nsequence length: {test.shape[1]} days\\ninput size: {test.shape[2]}\",\n",
        "          end=\"\\n\"*3)\n",
        "    print(f\"Actual shape: {actual.shape}\",\n",
        "         end=\"\\n\"*2)    \n",
        "    print(f\"Actual:\\nbatch size: {actual.shape[0]}\\ninput size: {actual.shape[1]}\",\n",
        "          end=\"\\n\"*2)      \n",
        "\n",
        "    return test, actual, date, open_price"
      ]
    },
    {
      "cell_type": "code",
      "execution_count": null,
      "id": "0ec931f6",
      "metadata": {
        "id": "0ec931f6"
      },
      "outputs": [],
      "source": [
        "# Create function for RMSE and MSE\n",
        "def MSE_RMSE_loss_np(predicted, target):\n",
        "    mse = (np.square(np.subtract(target,predicted))).mean()\n",
        "    rmse = np.sqrt(mse)\n",
        "    print(f\"MSE Loss: {mse} \\nRMSE Loss: {rmse}\",end=\"\\n\"*2)\n",
        "    return rmse, mse"
      ]
    },
    {
      "cell_type": "code",
      "execution_count": null,
      "id": "a73fa398",
      "metadata": {
        "id": "a73fa398"
      },
      "outputs": [],
      "source": [
        "# Create function for R2 Coefficient of determination\n",
        "def R2_np(predicted, target):\n",
        "    SSR = np.square(np.subtract(target,predicted)).sum()\n",
        "    SST = np.square(target-target.mean()).sum()\n",
        "    R2 = (1-(SSR/SST))\n",
        "    print(f\"R2: {R2}\",end=\"\\n\"*2)\n",
        "    return R2"
      ]
    },
    {
      "cell_type": "markdown",
      "id": "a49c6216",
      "metadata": {
        "id": "a49c6216"
      },
      "source": [
        "### Extract Data "
      ]
    },
    {
      "cell_type": "code",
      "execution_count": null,
      "id": "7f406bf8",
      "metadata": {
        "id": "7f406bf8"
      },
      "outputs": [],
      "source": [
        "# Extract data\n",
        "dataset_og = pd.read_csv(r\"dataset\\data.csv\")"
      ]
    },
    {
      "cell_type": "code",
      "execution_count": null,
      "id": "20b99567",
      "metadata": {
        "id": "20b99567",
        "outputId": "dc934ba2-71fd-42b4-c0d6-36d9e84f1ac8"
      },
      "outputs": [
        {
          "data": {
            "text/html": [
              "<div>\n",
              "<style scoped>\n",
              "    .dataframe tbody tr th:only-of-type {\n",
              "        vertical-align: middle;\n",
              "    }\n",
              "\n",
              "    .dataframe tbody tr th {\n",
              "        vertical-align: top;\n",
              "    }\n",
              "\n",
              "    .dataframe thead th {\n",
              "        text-align: right;\n",
              "    }\n",
              "</style>\n",
              "<table border=\"1\" class=\"dataframe\">\n",
              "  <thead>\n",
              "    <tr style=\"text-align: right;\">\n",
              "      <th></th>\n",
              "      <th>Missing Data</th>\n",
              "      <th>Columns Types</th>\n",
              "    </tr>\n",
              "  </thead>\n",
              "  <tbody>\n",
              "    <tr>\n",
              "      <th>Date</th>\n",
              "      <td>0</td>\n",
              "      <td>object</td>\n",
              "    </tr>\n",
              "    <tr>\n",
              "      <th>Open</th>\n",
              "      <td>0</td>\n",
              "      <td>float64</td>\n",
              "    </tr>\n",
              "    <tr>\n",
              "      <th>High</th>\n",
              "      <td>0</td>\n",
              "      <td>float64</td>\n",
              "    </tr>\n",
              "    <tr>\n",
              "      <th>Low</th>\n",
              "      <td>0</td>\n",
              "      <td>float64</td>\n",
              "    </tr>\n",
              "    <tr>\n",
              "      <th>Close</th>\n",
              "      <td>0</td>\n",
              "      <td>float64</td>\n",
              "    </tr>\n",
              "    <tr>\n",
              "      <th>Adj Close</th>\n",
              "      <td>0</td>\n",
              "      <td>float64</td>\n",
              "    </tr>\n",
              "    <tr>\n",
              "      <th>Volume</th>\n",
              "      <td>0</td>\n",
              "      <td>int64</td>\n",
              "    </tr>\n",
              "  </tbody>\n",
              "</table>\n",
              "</div>"
            ],
            "text/plain": [
              "           Missing Data Columns Types\n",
              "Date                  0        object\n",
              "Open                  0       float64\n",
              "High                  0       float64\n",
              "Low                   0       float64\n",
              "Close                 0       float64\n",
              "Adj Close             0       float64\n",
              "Volume                0         int64"
            ]
          },
          "execution_count": 11,
          "metadata": {},
          "output_type": "execute_result"
        }
      ],
      "source": [
        "# Description for missing data and columns types\n",
        "missing_data = dataset_og.isnull().sum()\n",
        "dtypes_data = dataset_og.dtypes\n",
        "summary_df = pd.DataFrame(data = {\"Missing Data\":missing_data, \"Columns Types\":dtypes_data})\n",
        "summary_df"
      ]
    },
    {
      "cell_type": "markdown",
      "id": "5acf32e1",
      "metadata": {
        "id": "5acf32e1"
      },
      "source": [
        "### Split Data"
      ]
    },
    {
      "cell_type": "code",
      "execution_count": null,
      "id": "5eecb11b",
      "metadata": {
        "id": "5eecb11b",
        "outputId": "c3f562d2-cf1b-4b23-f380-0f5d2165d8f9"
      },
      "outputs": [
        {
          "name": "stdout",
          "output_type": "stream",
          "text": [
            "Index of Date: 5787\n",
            "Start Date: 2023-01-03\n",
            "\n"
          ]
        }
      ],
      "source": [
        "# Define the date to split train and test\n",
        "year = \"2023\"\n",
        "month = \"01\"\n",
        "# sequence_length = 14\n",
        "\n",
        "\n",
        "# Get the index of the date\n",
        "index_start_date = start_date_index(year, month, dataset_og)\n",
        "\n",
        "\n",
        "# build the train and test dataset\n",
        "traindata, testdata = split_dataset(index_start_date, sequence_length, dataset_og)"
      ]
    },
    {
      "cell_type": "markdown",
      "id": "13a854f4",
      "metadata": {
        "id": "13a854f4"
      },
      "source": [
        "# Training & Testing and Price Prediction"
      ]
    },
    {
      "cell_type": "markdown",
      "id": "93c89741",
      "metadata": {
        "id": "93c89741"
      },
      "source": [
        "#### Feature Scaling Training Data"
      ]
    },
    {
      "cell_type": "code",
      "execution_count": null,
      "id": "9e696e8b",
      "metadata": {
        "id": "9e696e8b",
        "outputId": "e80b6bf3-7b85-4c53-f299-107de0da3a23"
      },
      "outputs": [
        {
          "data": {
            "text/plain": [
              "(5787, 1)"
            ]
          },
          "execution_count": 13,
          "metadata": {},
          "output_type": "execute_result"
        }
      ],
      "source": [
        "# Min Max Scaling for features\n",
        "# Feature Scaling\n",
        "min_max = (0,1)\n",
        "feature = \"Open\"\n",
        "\n",
        "scale_open = MinMaxScaler(feature_range = min_max)\n",
        "data_open = traindata[feature].values.reshape(-1, 1)\n",
        "data_open_scaled = scale_open.fit_transform(data_open)\n",
        "data_open_scaled.shape"
      ]
    },
    {
      "cell_type": "markdown",
      "id": "12915f46",
      "metadata": {
        "id": "12915f46"
      },
      "source": [
        "#### Prepare Training Data with Sliding Window"
      ]
    },
    {
      "cell_type": "code",
      "execution_count": null,
      "id": "fcb03d49",
      "metadata": {
        "id": "fcb03d49",
        "outputId": "9923915d-8572-4693-d2d2-e8e989bab8e1"
      },
      "outputs": [
        {
          "name": "stdout",
          "output_type": "stream",
          "text": [
            "Train shape: (5773, 14, 1)\n",
            "\n",
            "Train:\n",
            "batch size: 5773\n",
            "sequence length: 14 days\n",
            "input size: 1\n",
            "\n",
            "\n",
            "Target shape: (5773, 1)\n",
            "\n",
            "Target:\n",
            "batch size: 5773\n",
            "input size: 1\n",
            "\n"
          ]
        }
      ],
      "source": [
        "# Prepare data with sliding window\n",
        "\n",
        "train, target = sliding_window_train(sequence_length, data_open_scaled)"
      ]
    },
    {
      "cell_type": "markdown",
      "id": "90dc0f17",
      "metadata": {
        "id": "90dc0f17"
      },
      "source": [
        "#### Prepare Training Data for Training"
      ]
    },
    {
      "cell_type": "code",
      "execution_count": null,
      "id": "291921cd",
      "metadata": {
        "id": "291921cd",
        "outputId": "1ade71fd-4afb-4a3f-d224-a36b125b0b45"
      },
      "outputs": [
        {
          "name": "stdout",
          "output_type": "stream",
          "text": [
            "train shape is: torch.Size([5773, 14, 1])\n",
            "train label shape is: torch.Size([5773, 1])\n",
            "\n"
          ]
        }
      ],
      "source": [
        "# Set data to Tensor\n",
        "train = Variable(torch.Tensor(np.array(train).reshape(-1,sequence_length,1)))\n",
        "target = Variable(torch.Tensor(np.array(target).reshape(-1,1)))\n",
        "\n",
        "print(\"train shape is:\",train.size())\n",
        "print(\"train label shape is:\",target.size(), end=\"\\n\"*2)"
      ]
    },
    {
      "cell_type": "code",
      "execution_count": null,
      "id": "009afeaf",
      "metadata": {
        "id": "009afeaf",
        "outputId": "b77d2b6b-bcb9-405b-d4a3-e754973486df"
      },
      "outputs": [
        {
          "name": "stdout",
          "output_type": "stream",
          "text": [
            "Training Input into LSTM Tensor Shape: torch.Size([5773, 14, 1])\n",
            "\n",
            "Training Input Tensor: \n",
            "batch size: 5773\n",
            "sequence length: 14\n",
            "input size: 1\n",
            "\n",
            "\n",
            "Target Input into LSTM Tensor Shape: torch.Size([5773, 1])\n",
            "\n",
            "Target Input Tensor: \n",
            "batch size: 5773 \n",
            "input size: 1\n",
            "\n",
            "\n"
          ]
        }
      ],
      "source": [
        "# Breakdown of the Training Dataset\n",
        "print(f\"Training Input into LSTM Tensor Shape: {train.size()}\", end = \"\\n\"*2)\n",
        "print(f\"Training Input Tensor: \\nbatch size: {train.size(0)}\\nsequence length: {train.size(1)}\\ninput size: {train.size(2)}\",\n",
        "      end=\"\\n\"*3)\n",
        "\n",
        "print(f\"Target Input into LSTM Tensor Shape: {target.size()}\", end = \"\\n\"*2)\n",
        "print(f\"Target Input Tensor: \\nbatch size: {target.size(0)} \\ninput size: {target.size(1)}\",\n",
        "      end=\"\\n\"*3)"
      ]
    },
    {
      "cell_type": "code",
      "execution_count": null,
      "id": "3b06a8d3",
      "metadata": {
        "id": "3b06a8d3"
      },
      "outputs": [],
      "source": [
        "# Convert dataset to batches\n",
        "# batch = 64\n",
        "\n",
        "dataloader = DataLoader(TensorDataset(train, target), shuffle=False, batch_size=batch)"
      ]
    },
    {
      "cell_type": "markdown",
      "id": "d3fe35df",
      "metadata": {
        "id": "d3fe35df"
      },
      "source": [
        "### Define the LSTM Model"
      ]
    },
    {
      "cell_type": "code",
      "execution_count": null,
      "id": "0387e9de",
      "metadata": {
        "id": "0387e9de"
      },
      "outputs": [],
      "source": [
        "# Model\n",
        "class LSTM(nn.Module):\n",
        "    def __init__(self, num_classes, input_size, hidden_size, num_layers):\n",
        "        super(LSTM, self).__init__()\n",
        "        \n",
        "        self.num_classes = num_classes\n",
        "        self.num_layers = num_layers\n",
        "        self.input_size = input_size\n",
        "        self.hidden_size = hidden_size\n",
        "        \n",
        "        # LSTM\n",
        "        self.lstm1 = nn.LSTM(input_size=input_size, \n",
        "                            hidden_size=hidden_size,\n",
        "                            num_layers=num_layers, \n",
        "                            batch_first=True,\n",
        "                           )\n",
        "\n",
        "        self.lstm2 = nn.LSTM(input_size=hidden_size, \n",
        "                            hidden_size=hidden_size,\n",
        "                            num_layers=num_layers, \n",
        "                            batch_first=False,\n",
        "                           )        \n",
        "        # Dropout Layer\n",
        "        self.dropout1 = nn.Dropout(p=0.2)        \n",
        "        self.dropout2 = nn.Dropout(p=0.2)    \n",
        "        \n",
        "        # Last Fully Connected\n",
        "        self.fc = nn.Linear(hidden_size, num_classes)\n",
        "\n",
        "        \n",
        "    def forward(self, x):\n",
        "        h_01 = Variable(torch.zeros( self.num_layers, \n",
        "                                   x.size(0),  # <== this is the batch size\n",
        "                                   self.hidden_size))\n",
        "        \n",
        "        c_01 = Variable(torch.zeros(self.num_layers, \n",
        "                                   x.size(0),  # <== this is the batch size\n",
        "                                   self.hidden_size))\n",
        "        h_02 = Variable(torch.zeros( self.num_layers, \n",
        "                                   x.size(0),  # <== this is the batch size\n",
        "                                   self.hidden_size))\n",
        "        \n",
        "        c_02 = Variable(torch.zeros(self.num_layers, \n",
        "                                   x.size(0),  # <== this is the batch size\n",
        "                                   self.hidden_size))        \n",
        "        \n",
        "        # Propagate input through LSTM\n",
        "        output, (h_n1, c_n1) = self.lstm1(x, (h_01.to(device), c_01.to(device))) \n",
        "        dropout_out1 = self.dropout1(h_n1)\n",
        "        output, (h_n2, c_n2) = self.lstm2(dropout_out1, (h_02.to(device), c_02.to(device))) \n",
        "        dropout_out2 = self.dropout2(h_n2)\n",
        "        \n",
        "        h_n_flattened = dropout_out2.view(-1, self.hidden_size) # <= Flatten Tensor\n",
        "        fc_out = self.fc(h_n_flattened) # <= FC layer\n",
        "        \n",
        "        return fc_out"
      ]
    },
    {
      "cell_type": "markdown",
      "id": "ec490943",
      "metadata": {
        "id": "ec490943"
      },
      "source": [
        "#### Set Parameters"
      ]
    },
    {
      "cell_type": "code",
      "execution_count": null,
      "id": "4971b6d6",
      "metadata": {
        "id": "4971b6d6"
      },
      "outputs": [],
      "source": [
        "# Setting Parameters of LSTM\n",
        "num_classes = 1\n",
        "input_size = train.size(2)\n",
        "# hidden_size = 50\n",
        "num_layers = 1\n",
        "\n",
        "# Epochs and learning rate\n",
        "# num_epochs = 200\n",
        "learning_rate = 1e-3\n",
        "\n",
        "# Input into LSTM\n",
        "batch_size = train.size(0)\n",
        "seq_length = train.size(1)"
      ]
    },
    {
      "cell_type": "code",
      "execution_count": null,
      "id": "7c39c4fd",
      "metadata": {
        "id": "7c39c4fd",
        "outputId": "79285e71-c306-4366-ba95-3be824bc9d1e"
      },
      "outputs": [
        {
          "data": {
            "text/plain": [
              "LSTM(\n",
              "  (lstm1): LSTM(1, 50, batch_first=True)\n",
              "  (lstm2): LSTM(50, 50)\n",
              "  (dropout1): Dropout(p=0.2, inplace=False)\n",
              "  (dropout2): Dropout(p=0.2, inplace=False)\n",
              "  (fc): Linear(in_features=50, out_features=1, bias=True)\n",
              ")"
            ]
          },
          "execution_count": 20,
          "metadata": {},
          "output_type": "execute_result"
        }
      ],
      "source": [
        "# Initialize the LSTM model\n",
        "lstm_model = LSTM(num_classes, input_size, hidden_size, num_layers)\n",
        "lstm_model.to(device)  # <= Set model to CUDA device"
      ]
    },
    {
      "cell_type": "markdown",
      "id": "bd15eff7",
      "metadata": {
        "id": "bd15eff7"
      },
      "source": [
        "### Train model"
      ]
    },
    {
      "cell_type": "code",
      "execution_count": null,
      "id": "080e4fc2",
      "metadata": {
        "id": "080e4fc2",
        "outputId": "d27e4c41-1e53-43a4-822c-c9b56b5d5797"
      },
      "outputs": [
        {
          "data": {
            "text/html": [
              "\n",
              "    <div>\n",
              "        <style>\n",
              "            /* Turns off some styling */\n",
              "            progress {\n",
              "                /* gets rid of default border in Firefox and Opera. */\n",
              "                border: none;\n",
              "                /* Needs to be in here for Safari polyfill so background images work as expected. */\n",
              "                background-size: auto;\n",
              "            }\n",
              "            .progress-bar-interrupted, .progress-bar-interrupted::-webkit-progress-bar {\n",
              "                background: #F44336;\n",
              "            }\n",
              "        </style>\n",
              "      <progress value='100' class='' max='100' style='width:300px; height:20px; vertical-align: middle;'></progress>\n",
              "      100.00% [100/100 00:41<00:00]\n",
              "    </div>\n",
              "    "
            ],
            "text/plain": [
              "<IPython.core.display.HTML object>"
            ]
          },
          "metadata": {},
          "output_type": "display_data"
        },
        {
          "name": "stdout",
          "output_type": "stream",
          "text": [
            "Epoch: 0, Batch: 0, Loss: 0.0012738429941236973, Total Loss: 0.0012738429941236973\n",
            "Epoch: 1, Batch: 0, Loss: 0.44326645135879517, Total Loss: 0.44326645135879517\n",
            "Epoch: 2, Batch: 0, Loss: 0.030041223391890526, Total Loss: 0.030041223391890526\n",
            "Epoch: 3, Batch: 0, Loss: 0.03393537551164627, Total Loss: 0.03393537551164627\n",
            "Epoch: 4, Batch: 0, Loss: 0.04058540612459183, Total Loss: 0.04058540612459183\n",
            "Epoch: 5, Batch: 0, Loss: 0.026448894292116165, Total Loss: 0.026448894292116165\n",
            "Epoch: 6, Batch: 0, Loss: 0.015532668679952621, Total Loss: 0.015532668679952621\n",
            "Epoch: 7, Batch: 0, Loss: 0.0016862135380506516, Total Loss: 0.0016862135380506516\n",
            "Epoch: 8, Batch: 0, Loss: 0.00957443006336689, Total Loss: 0.00957443006336689\n",
            "Epoch: 9, Batch: 0, Loss: 0.017403103411197662, Total Loss: 0.017403103411197662\n",
            "Epoch: 10, Batch: 0, Loss: 0.015972204506397247, Total Loss: 0.015972204506397247\n",
            "Epoch: 11, Batch: 0, Loss: 0.00904334057122469, Total Loss: 0.00904334057122469\n",
            "Epoch: 12, Batch: 0, Loss: 0.01547270268201828, Total Loss: 0.01547270268201828\n",
            "Epoch: 13, Batch: 0, Loss: 0.009567715227603912, Total Loss: 0.009567715227603912\n",
            "Epoch: 14, Batch: 0, Loss: 0.010795895010232925, Total Loss: 0.010795895010232925\n",
            "Epoch: 15, Batch: 0, Loss: 0.009640142321586609, Total Loss: 0.009640142321586609\n",
            "Epoch: 16, Batch: 0, Loss: 0.008251423016190529, Total Loss: 0.008251423016190529\n",
            "Epoch: 17, Batch: 0, Loss: 0.008451049216091633, Total Loss: 0.008451049216091633\n",
            "Epoch: 18, Batch: 0, Loss: 0.007512826472520828, Total Loss: 0.007512826472520828\n",
            "Epoch: 19, Batch: 0, Loss: 0.006817711517214775, Total Loss: 0.006817711517214775\n",
            "Epoch: 20, Batch: 0, Loss: 0.0044395094737410545, Total Loss: 0.0044395094737410545\n",
            "Epoch: 21, Batch: 0, Loss: 0.0025043091736733913, Total Loss: 0.0025043091736733913\n",
            "Epoch: 22, Batch: 0, Loss: 0.0011742751812562346, Total Loss: 0.0011742751812562346\n",
            "Epoch: 23, Batch: 0, Loss: 0.000705449958331883, Total Loss: 0.000705449958331883\n",
            "Epoch: 24, Batch: 0, Loss: 0.005274447612464428, Total Loss: 0.005274447612464428\n",
            "Epoch: 25, Batch: 0, Loss: 0.013507579453289509, Total Loss: 0.013507579453289509\n",
            "Epoch: 26, Batch: 0, Loss: 0.01807272806763649, Total Loss: 0.01807272806763649\n",
            "Epoch: 27, Batch: 0, Loss: 0.007418127730488777, Total Loss: 0.007418127730488777\n",
            "Epoch: 28, Batch: 0, Loss: 0.011065157130360603, Total Loss: 0.011065157130360603\n",
            "Epoch: 29, Batch: 0, Loss: 0.0029819186311215162, Total Loss: 0.0029819186311215162\n",
            "Epoch: 30, Batch: 0, Loss: 0.003679351881146431, Total Loss: 0.003679351881146431\n",
            "Epoch: 31, Batch: 0, Loss: 0.004598837811499834, Total Loss: 0.004598837811499834\n",
            "Epoch: 32, Batch: 0, Loss: 0.003411481622606516, Total Loss: 0.003411481622606516\n",
            "Epoch: 33, Batch: 0, Loss: 0.0034273536875844, Total Loss: 0.0034273536875844\n",
            "Epoch: 34, Batch: 0, Loss: 0.0014940304681658745, Total Loss: 0.0014940304681658745\n",
            "Epoch: 35, Batch: 0, Loss: 0.0018789711175486445, Total Loss: 0.0018789711175486445\n",
            "Epoch: 36, Batch: 0, Loss: 0.0012729102745652199, Total Loss: 0.0012729102745652199\n",
            "Epoch: 37, Batch: 0, Loss: 0.004695299547165632, Total Loss: 0.004695299547165632\n",
            "Epoch: 38, Batch: 0, Loss: 0.007300819270312786, Total Loss: 0.007300819270312786\n",
            "Epoch: 39, Batch: 0, Loss: 0.009127275086939335, Total Loss: 0.009127275086939335\n",
            "Epoch: 40, Batch: 0, Loss: 0.005046157166361809, Total Loss: 0.005046157166361809\n",
            "Epoch: 41, Batch: 0, Loss: 0.0032706675119698048, Total Loss: 0.0032706675119698048\n",
            "Epoch: 42, Batch: 0, Loss: 0.00033819861710071564, Total Loss: 0.00033819861710071564\n",
            "Epoch: 43, Batch: 0, Loss: 0.0003149233525618911, Total Loss: 0.0003149233525618911\n",
            "Epoch: 44, Batch: 0, Loss: 0.0006782774580642581, Total Loss: 0.0006782774580642581\n",
            "Epoch: 45, Batch: 0, Loss: 0.0011196795385330915, Total Loss: 0.0011196795385330915\n",
            "Epoch: 46, Batch: 0, Loss: 0.0008816675981506705, Total Loss: 0.0008816675981506705\n",
            "Epoch: 47, Batch: 0, Loss: 0.0004701296566054225, Total Loss: 0.0004701296566054225\n",
            "Epoch: 48, Batch: 0, Loss: 0.004747928120195866, Total Loss: 0.004747928120195866\n",
            "Epoch: 49, Batch: 0, Loss: 0.007177900057286024, Total Loss: 0.007177900057286024\n",
            "Epoch: 50, Batch: 0, Loss: 0.005825997330248356, Total Loss: 0.005825997330248356\n",
            "Epoch: 51, Batch: 0, Loss: 0.022372987121343613, Total Loss: 0.022372987121343613\n",
            "Epoch: 52, Batch: 0, Loss: 0.008680600672960281, Total Loss: 0.008680600672960281\n",
            "Epoch: 53, Batch: 0, Loss: 0.010294722393155098, Total Loss: 0.010294722393155098\n",
            "Epoch: 54, Batch: 0, Loss: 0.007944442331790924, Total Loss: 0.007944442331790924\n",
            "Epoch: 55, Batch: 0, Loss: 0.008031431585550308, Total Loss: 0.008031431585550308\n",
            "Epoch: 56, Batch: 0, Loss: 0.0055852788500487804, Total Loss: 0.0055852788500487804\n",
            "Epoch: 57, Batch: 0, Loss: 0.005697099957615137, Total Loss: 0.005697099957615137\n",
            "Epoch: 58, Batch: 0, Loss: 0.0037659048102796078, Total Loss: 0.0037659048102796078\n",
            "Epoch: 59, Batch: 0, Loss: 0.0028729084879159927, Total Loss: 0.0028729084879159927\n",
            "Epoch: 60, Batch: 0, Loss: 0.007098642643541098, Total Loss: 0.007098642643541098\n",
            "Epoch: 61, Batch: 0, Loss: 0.0009907681960612535, Total Loss: 0.0009907681960612535\n",
            "Epoch: 62, Batch: 0, Loss: 0.0029632020741701126, Total Loss: 0.0029632020741701126\n",
            "Epoch: 63, Batch: 0, Loss: 0.004140929784625769, Total Loss: 0.004140929784625769\n",
            "Epoch: 64, Batch: 0, Loss: 0.002059770980849862, Total Loss: 0.002059770980849862\n",
            "Epoch: 65, Batch: 0, Loss: 0.0008197572897188365, Total Loss: 0.0008197572897188365\n",
            "Epoch: 66, Batch: 0, Loss: 0.0006572554120793939, Total Loss: 0.0006572554120793939\n",
            "Epoch: 67, Batch: 0, Loss: 0.0009481986635364592, Total Loss: 0.0009481986635364592\n",
            "Epoch: 68, Batch: 0, Loss: 0.0035129855386912823, Total Loss: 0.0035129855386912823\n",
            "Epoch: 69, Batch: 0, Loss: 0.0023711358662694693, Total Loss: 0.0023711358662694693\n",
            "Epoch: 70, Batch: 0, Loss: 0.005046268925070763, Total Loss: 0.005046268925070763\n",
            "Epoch: 71, Batch: 0, Loss: 0.002361197955906391, Total Loss: 0.002361197955906391\n",
            "Epoch: 72, Batch: 0, Loss: 0.0017561690183356404, Total Loss: 0.0017561690183356404\n",
            "Epoch: 73, Batch: 0, Loss: 0.0015901487786322832, Total Loss: 0.0015901487786322832\n",
            "Epoch: 74, Batch: 0, Loss: 0.0010196991497650743, Total Loss: 0.0010196991497650743\n",
            "Epoch: 75, Batch: 0, Loss: 0.000508165976498276, Total Loss: 0.000508165976498276\n",
            "Epoch: 76, Batch: 0, Loss: 0.0011326312087476254, Total Loss: 0.0011326312087476254\n",
            "Epoch: 77, Batch: 0, Loss: 0.00038406896055676043, Total Loss: 0.00038406896055676043\n",
            "Epoch: 78, Batch: 0, Loss: 0.0008879307424649596, Total Loss: 0.0008879307424649596\n",
            "Epoch: 79, Batch: 0, Loss: 0.004028663970530033, Total Loss: 0.004028663970530033\n",
            "Epoch: 80, Batch: 0, Loss: 0.008413420990109444, Total Loss: 0.008413420990109444\n",
            "Epoch: 81, Batch: 0, Loss: 0.003403780981898308, Total Loss: 0.003403780981898308\n",
            "Epoch: 82, Batch: 0, Loss: 0.006016767118126154, Total Loss: 0.006016767118126154\n",
            "Epoch: 83, Batch: 0, Loss: 0.001351548358798027, Total Loss: 0.001351548358798027\n",
            "Epoch: 84, Batch: 0, Loss: 0.0005736672319471836, Total Loss: 0.0005736672319471836\n",
            "Epoch: 85, Batch: 0, Loss: 0.0003851107321679592, Total Loss: 0.0003851107321679592\n",
            "Epoch: 86, Batch: 0, Loss: 0.0013060806086286902, Total Loss: 0.0013060806086286902\n",
            "Epoch: 87, Batch: 0, Loss: 0.0010692828800529242, Total Loss: 0.0010692828800529242\n",
            "Epoch: 88, Batch: 0, Loss: 0.001814280985854566, Total Loss: 0.001814280985854566\n",
            "Epoch: 89, Batch: 0, Loss: 0.008537307381629944, Total Loss: 0.008537307381629944\n",
            "Epoch: 90, Batch: 0, Loss: 0.016652515158057213, Total Loss: 0.016652515158057213\n",
            "Epoch: 91, Batch: 0, Loss: 0.009381509386003017, Total Loss: 0.009381509386003017\n",
            "Epoch: 92, Batch: 0, Loss: 0.005386766046285629, Total Loss: 0.005386766046285629\n",
            "Epoch: 93, Batch: 0, Loss: 0.00489187054336071, Total Loss: 0.00489187054336071\n",
            "Epoch: 94, Batch: 0, Loss: 0.0010107581038028002, Total Loss: 0.0010107581038028002\n",
            "Epoch: 95, Batch: 0, Loss: 0.0009217801271006465, Total Loss: 0.0009217801271006465\n",
            "Epoch: 96, Batch: 0, Loss: 0.0003592450520955026, Total Loss: 0.0003592450520955026\n",
            "Epoch: 97, Batch: 0, Loss: 0.00035279494477435946, Total Loss: 0.00035279494477435946\n",
            "Epoch: 98, Batch: 0, Loss: 0.0021226697135716677, Total Loss: 0.0021226697135716677\n",
            "Epoch: 99, Batch: 0, Loss: 0.004647817462682724, Total Loss: 0.004647817462682724\n"
          ]
        }
      ],
      "source": [
        "# Set loss_function and Optimzer\n",
        "loss_function = torch.nn.MSELoss().to(device)    # mean-squared error\n",
        "optimizer = torch.optim.Adam(lstm_model.parameters(),\n",
        "                             lr=learning_rate,\n",
        "                             weight_decay=1e-5)\n",
        "\n",
        "# Train the model\n",
        "for epoch in progress_bar(range(num_epochs)): \n",
        "    \n",
        "    total_loss = 0\n",
        "    for batch_num, data in enumerate(dataloader):\n",
        "        \n",
        "        train_data, target_data = data\n",
        "        \n",
        "        lstm_model.train()\n",
        "\n",
        "        # Zero gradients\n",
        "        optimizer.zero_grad()\n",
        "\n",
        "        # Predictions\n",
        "        predict_outputs = lstm_model(train_data.to(device)) # <= Set training to CUDA device\n",
        "\n",
        "        # Obtain the loss function\n",
        "        loss = loss_function(predict_outputs, target_data.to(device))\n",
        "\n",
        "        # backward propogation\n",
        "        loss.backward()\n",
        "\n",
        "        # gradient descent\n",
        "        optimizer.step()\n",
        "\n",
        "        # Calculate Loss\n",
        "        total_loss += loss.item()\n",
        "\n",
        "        if batch_num % 100==0:\n",
        "            print(f\"Epoch: {epoch}, Batch: {batch_num}, Loss: {loss.item()}, Total Loss: {total_loss}\")"
      ]
    },
    {
      "cell_type": "markdown",
      "id": "6bc24317",
      "metadata": {
        "id": "6bc24317"
      },
      "source": [
        "#### Prepare Testing Data for Forecasting"
      ]
    },
    {
      "cell_type": "code",
      "execution_count": null,
      "id": "f012615e",
      "metadata": {
        "id": "f012615e",
        "outputId": "fc870406-809b-48d0-86d0-0772f4509d0e"
      },
      "outputs": [
        {
          "data": {
            "text/html": [
              "<div>\n",
              "<style scoped>\n",
              "    .dataframe tbody tr th:only-of-type {\n",
              "        vertical-align: middle;\n",
              "    }\n",
              "\n",
              "    .dataframe tbody tr th {\n",
              "        vertical-align: top;\n",
              "    }\n",
              "\n",
              "    .dataframe thead th {\n",
              "        text-align: right;\n",
              "    }\n",
              "</style>\n",
              "<table border=\"1\" class=\"dataframe\">\n",
              "  <thead>\n",
              "    <tr style=\"text-align: right;\">\n",
              "      <th></th>\n",
              "      <th>Date</th>\n",
              "      <th>Open</th>\n",
              "      <th>High</th>\n",
              "      <th>Low</th>\n",
              "      <th>Close</th>\n",
              "      <th>Adj Close</th>\n",
              "      <th>Volume</th>\n",
              "    </tr>\n",
              "  </thead>\n",
              "  <tbody>\n",
              "    <tr>\n",
              "      <th>0</th>\n",
              "      <td>2022-12-12</td>\n",
              "      <td>142.699997</td>\n",
              "      <td>144.500000</td>\n",
              "      <td>141.059998</td>\n",
              "      <td>144.490005</td>\n",
              "      <td>144.269730</td>\n",
              "      <td>70462700</td>\n",
              "    </tr>\n",
              "    <tr>\n",
              "      <th>1</th>\n",
              "      <td>2022-12-13</td>\n",
              "      <td>149.500000</td>\n",
              "      <td>149.970001</td>\n",
              "      <td>144.240005</td>\n",
              "      <td>145.470001</td>\n",
              "      <td>145.248230</td>\n",
              "      <td>93886200</td>\n",
              "    </tr>\n",
              "    <tr>\n",
              "      <th>2</th>\n",
              "      <td>2022-12-14</td>\n",
              "      <td>145.350006</td>\n",
              "      <td>146.660004</td>\n",
              "      <td>141.160004</td>\n",
              "      <td>143.210007</td>\n",
              "      <td>142.991684</td>\n",
              "      <td>82291200</td>\n",
              "    </tr>\n",
              "    <tr>\n",
              "      <th>3</th>\n",
              "      <td>2022-12-15</td>\n",
              "      <td>141.110001</td>\n",
              "      <td>141.800003</td>\n",
              "      <td>136.029999</td>\n",
              "      <td>136.500000</td>\n",
              "      <td>136.291901</td>\n",
              "      <td>98931900</td>\n",
              "    </tr>\n",
              "    <tr>\n",
              "      <th>4</th>\n",
              "      <td>2022-12-16</td>\n",
              "      <td>136.690002</td>\n",
              "      <td>137.649994</td>\n",
              "      <td>133.729996</td>\n",
              "      <td>134.509995</td>\n",
              "      <td>134.304932</td>\n",
              "      <td>160156900</td>\n",
              "    </tr>\n",
              "    <tr>\n",
              "      <th>5</th>\n",
              "      <td>2022-12-19</td>\n",
              "      <td>135.110001</td>\n",
              "      <td>135.199997</td>\n",
              "      <td>131.320007</td>\n",
              "      <td>132.369995</td>\n",
              "      <td>132.168198</td>\n",
              "      <td>79592600</td>\n",
              "    </tr>\n",
              "    <tr>\n",
              "      <th>6</th>\n",
              "      <td>2022-12-20</td>\n",
              "      <td>131.389999</td>\n",
              "      <td>133.250000</td>\n",
              "      <td>129.889999</td>\n",
              "      <td>132.300003</td>\n",
              "      <td>132.098312</td>\n",
              "      <td>77432800</td>\n",
              "    </tr>\n",
              "    <tr>\n",
              "      <th>7</th>\n",
              "      <td>2022-12-21</td>\n",
              "      <td>132.979996</td>\n",
              "      <td>136.809998</td>\n",
              "      <td>132.750000</td>\n",
              "      <td>135.449997</td>\n",
              "      <td>135.243500</td>\n",
              "      <td>85928000</td>\n",
              "    </tr>\n",
              "    <tr>\n",
              "      <th>8</th>\n",
              "      <td>2022-12-22</td>\n",
              "      <td>134.350006</td>\n",
              "      <td>134.559998</td>\n",
              "      <td>130.300003</td>\n",
              "      <td>132.229996</td>\n",
              "      <td>132.028412</td>\n",
              "      <td>77852100</td>\n",
              "    </tr>\n",
              "    <tr>\n",
              "      <th>9</th>\n",
              "      <td>2022-12-23</td>\n",
              "      <td>130.919998</td>\n",
              "      <td>132.419998</td>\n",
              "      <td>129.639999</td>\n",
              "      <td>131.860001</td>\n",
              "      <td>131.658981</td>\n",
              "      <td>63814900</td>\n",
              "    </tr>\n",
              "    <tr>\n",
              "      <th>10</th>\n",
              "      <td>2022-12-27</td>\n",
              "      <td>131.380005</td>\n",
              "      <td>131.410004</td>\n",
              "      <td>128.720001</td>\n",
              "      <td>130.029999</td>\n",
              "      <td>129.831772</td>\n",
              "      <td>69007800</td>\n",
              "    </tr>\n",
              "    <tr>\n",
              "      <th>11</th>\n",
              "      <td>2022-12-28</td>\n",
              "      <td>129.669998</td>\n",
              "      <td>131.029999</td>\n",
              "      <td>125.870003</td>\n",
              "      <td>126.040001</td>\n",
              "      <td>125.847855</td>\n",
              "      <td>85438400</td>\n",
              "    </tr>\n",
              "    <tr>\n",
              "      <th>12</th>\n",
              "      <td>2022-12-29</td>\n",
              "      <td>127.989998</td>\n",
              "      <td>130.479996</td>\n",
              "      <td>127.730003</td>\n",
              "      <td>129.610001</td>\n",
              "      <td>129.412415</td>\n",
              "      <td>75703700</td>\n",
              "    </tr>\n",
              "    <tr>\n",
              "      <th>13</th>\n",
              "      <td>2022-12-30</td>\n",
              "      <td>128.410004</td>\n",
              "      <td>129.949997</td>\n",
              "      <td>127.430000</td>\n",
              "      <td>129.929993</td>\n",
              "      <td>129.731918</td>\n",
              "      <td>77034200</td>\n",
              "    </tr>\n",
              "    <tr>\n",
              "      <th>14</th>\n",
              "      <td>2023-01-03</td>\n",
              "      <td>130.279999</td>\n",
              "      <td>130.899994</td>\n",
              "      <td>124.169998</td>\n",
              "      <td>125.070000</td>\n",
              "      <td>124.879326</td>\n",
              "      <td>112117500</td>\n",
              "    </tr>\n",
              "    <tr>\n",
              "      <th>15</th>\n",
              "      <td>2023-01-04</td>\n",
              "      <td>126.889999</td>\n",
              "      <td>128.660004</td>\n",
              "      <td>125.080002</td>\n",
              "      <td>126.360001</td>\n",
              "      <td>126.167366</td>\n",
              "      <td>89113600</td>\n",
              "    </tr>\n",
              "    <tr>\n",
              "      <th>16</th>\n",
              "      <td>2023-01-05</td>\n",
              "      <td>127.129997</td>\n",
              "      <td>127.769997</td>\n",
              "      <td>124.760002</td>\n",
              "      <td>125.019997</td>\n",
              "      <td>124.829399</td>\n",
              "      <td>80962700</td>\n",
              "    </tr>\n",
              "    <tr>\n",
              "      <th>17</th>\n",
              "      <td>2023-01-06</td>\n",
              "      <td>126.010002</td>\n",
              "      <td>130.289993</td>\n",
              "      <td>124.889999</td>\n",
              "      <td>129.619995</td>\n",
              "      <td>129.422394</td>\n",
              "      <td>87754700</td>\n",
              "    </tr>\n",
              "    <tr>\n",
              "      <th>18</th>\n",
              "      <td>2023-01-09</td>\n",
              "      <td>130.470001</td>\n",
              "      <td>133.410004</td>\n",
              "      <td>129.889999</td>\n",
              "      <td>130.149994</td>\n",
              "      <td>129.951584</td>\n",
              "      <td>70790800</td>\n",
              "    </tr>\n",
              "    <tr>\n",
              "      <th>19</th>\n",
              "      <td>2023-01-10</td>\n",
              "      <td>130.259995</td>\n",
              "      <td>131.259995</td>\n",
              "      <td>128.119995</td>\n",
              "      <td>130.729996</td>\n",
              "      <td>130.530701</td>\n",
              "      <td>63896200</td>\n",
              "    </tr>\n",
              "  </tbody>\n",
              "</table>\n",
              "</div>"
            ],
            "text/plain": [
              "          Date        Open        High         Low       Close   Adj Close   \n",
              "0   2022-12-12  142.699997  144.500000  141.059998  144.490005  144.269730  \\\n",
              "1   2022-12-13  149.500000  149.970001  144.240005  145.470001  145.248230   \n",
              "2   2022-12-14  145.350006  146.660004  141.160004  143.210007  142.991684   \n",
              "3   2022-12-15  141.110001  141.800003  136.029999  136.500000  136.291901   \n",
              "4   2022-12-16  136.690002  137.649994  133.729996  134.509995  134.304932   \n",
              "5   2022-12-19  135.110001  135.199997  131.320007  132.369995  132.168198   \n",
              "6   2022-12-20  131.389999  133.250000  129.889999  132.300003  132.098312   \n",
              "7   2022-12-21  132.979996  136.809998  132.750000  135.449997  135.243500   \n",
              "8   2022-12-22  134.350006  134.559998  130.300003  132.229996  132.028412   \n",
              "9   2022-12-23  130.919998  132.419998  129.639999  131.860001  131.658981   \n",
              "10  2022-12-27  131.380005  131.410004  128.720001  130.029999  129.831772   \n",
              "11  2022-12-28  129.669998  131.029999  125.870003  126.040001  125.847855   \n",
              "12  2022-12-29  127.989998  130.479996  127.730003  129.610001  129.412415   \n",
              "13  2022-12-30  128.410004  129.949997  127.430000  129.929993  129.731918   \n",
              "14  2023-01-03  130.279999  130.899994  124.169998  125.070000  124.879326   \n",
              "15  2023-01-04  126.889999  128.660004  125.080002  126.360001  126.167366   \n",
              "16  2023-01-05  127.129997  127.769997  124.760002  125.019997  124.829399   \n",
              "17  2023-01-06  126.010002  130.289993  124.889999  129.619995  129.422394   \n",
              "18  2023-01-09  130.470001  133.410004  129.889999  130.149994  129.951584   \n",
              "19  2023-01-10  130.259995  131.259995  128.119995  130.729996  130.530701   \n",
              "\n",
              "       Volume  \n",
              "0    70462700  \n",
              "1    93886200  \n",
              "2    82291200  \n",
              "3    98931900  \n",
              "4   160156900  \n",
              "5    79592600  \n",
              "6    77432800  \n",
              "7    85928000  \n",
              "8    77852100  \n",
              "9    63814900  \n",
              "10   69007800  \n",
              "11   85438400  \n",
              "12   75703700  \n",
              "13   77034200  \n",
              "14  112117500  \n",
              "15   89113600  \n",
              "16   80962700  \n",
              "17   87754700  \n",
              "18   70790800  \n",
              "19   63896200  "
            ]
          },
          "execution_count": 22,
          "metadata": {},
          "output_type": "execute_result"
        }
      ],
      "source": [
        "# Display testdata for forecasting\n",
        "testdata.head(20)"
      ]
    },
    {
      "cell_type": "markdown",
      "id": "75bb9381",
      "metadata": {
        "id": "75bb9381"
      },
      "source": [
        "#### Feature Scaling Testing Data"
      ]
    },
    {
      "cell_type": "code",
      "execution_count": null,
      "id": "32145092",
      "metadata": {
        "id": "32145092"
      },
      "outputs": [],
      "source": [
        "# Feature scaling\n",
        "min_max = (0,1)\n",
        "# feature = \"Open\" #<= same as before\n",
        "\n",
        "# Get the scaled Open\n",
        "scale_test_open = MinMaxScaler(feature_range = min_max)\n",
        "open_price = testdata[feature].values.reshape(-1, 1)\n",
        "data_test_open = scale_test_open.fit_transform(open_price) # Scale the Open Price\n",
        "\n",
        "# Get the dates\n",
        "data_date = testdata.Date.values"
      ]
    },
    {
      "cell_type": "markdown",
      "id": "7e0c3a85",
      "metadata": {
        "id": "7e0c3a85"
      },
      "source": [
        "#### Prepare Testing Data with Sliding Window"
      ]
    },
    {
      "cell_type": "code",
      "execution_count": null,
      "id": "f092854f",
      "metadata": {
        "id": "f092854f",
        "outputId": "dfc1ca08-28da-4d55-eee2-acc916f9c73e"
      },
      "outputs": [
        {
          "name": "stdout",
          "output_type": "stream",
          "text": [
            "Index of Date: 14\n",
            "Start Date: 2023-01-03\n",
            "\n",
            "Test shape: (76, 14, 1)\n",
            "\n",
            "Test:\n",
            "batch size: 76\n",
            "sequence length: 14 days\n",
            "input size: 1\n",
            "\n",
            "\n",
            "Actual shape: (76, 1)\n",
            "\n",
            "Actual:\n",
            "batch size: 76\n",
            "input size: 1\n",
            "\n"
          ]
        }
      ],
      "source": [
        "# Extract data with sliding window\n",
        "# Sequence_length same for train dataset\n",
        "# year = \"2023\" # Same year as Training\n",
        "# month = \"01\" # Same Month as Training\n",
        "\n",
        "\n",
        "index_start_date = start_date_index(year, month, testdata)\n",
        "\n",
        "test, actual, date, open_price = sliding_window_test(index_start_date, sequence_length, \n",
        "                                                     data_test_open, open_price, data_date)"
      ]
    },
    {
      "cell_type": "markdown",
      "id": "211730e0",
      "metadata": {
        "id": "211730e0"
      },
      "source": [
        "#### Prepare Testing Data for Forecasting"
      ]
    },
    {
      "cell_type": "code",
      "execution_count": null,
      "id": "9cb24dc7",
      "metadata": {
        "id": "9cb24dc7"
      },
      "outputs": [],
      "source": [
        "# Set data to Tensor\n",
        "test = Variable(torch.Tensor(np.array(test).reshape(-1,sequence_length,1)))\n",
        "actual = Variable(torch.Tensor(np.array(actual).reshape(-1,1)))"
      ]
    },
    {
      "cell_type": "markdown",
      "id": "d6521043",
      "metadata": {
        "id": "d6521043"
      },
      "source": [
        "### Model Prediction"
      ]
    },
    {
      "cell_type": "code",
      "execution_count": null,
      "id": "dac6ba42",
      "metadata": {
        "id": "dac6ba42"
      },
      "outputs": [],
      "source": [
        "# Model prediction\n",
        "lstm_model.eval()\n",
        "with torch.no_grad():\n",
        "    prediction = lstm_model(test.to(device))"
      ]
    },
    {
      "cell_type": "markdown",
      "id": "14892937",
      "metadata": {
        "id": "14892937"
      },
      "source": [
        "#### Inverse Scale Prediction and Prepare for Visualization"
      ]
    },
    {
      "cell_type": "code",
      "execution_count": null,
      "id": "11640031",
      "metadata": {
        "id": "11640031",
        "outputId": "e78e32e6-88a5-4929-c280-dd25f584f2c0"
      },
      "outputs": [
        {
          "data": {
            "text/html": [
              "<div>\n",
              "<style scoped>\n",
              "    .dataframe tbody tr th:only-of-type {\n",
              "        vertical-align: middle;\n",
              "    }\n",
              "\n",
              "    .dataframe tbody tr th {\n",
              "        vertical-align: top;\n",
              "    }\n",
              "\n",
              "    .dataframe thead th {\n",
              "        text-align: right;\n",
              "    }\n",
              "</style>\n",
              "<table border=\"1\" class=\"dataframe\">\n",
              "  <thead>\n",
              "    <tr style=\"text-align: right;\">\n",
              "      <th></th>\n",
              "      <th>Date</th>\n",
              "      <th>Actual_Open</th>\n",
              "      <th>Predicted_Open</th>\n",
              "    </tr>\n",
              "  </thead>\n",
              "  <tbody>\n",
              "    <tr>\n",
              "      <th>0</th>\n",
              "      <td>2023-01-03</td>\n",
              "      <td>130.279999</td>\n",
              "      <td>132.466228</td>\n",
              "    </tr>\n",
              "    <tr>\n",
              "      <th>1</th>\n",
              "      <td>2023-01-04</td>\n",
              "      <td>126.889999</td>\n",
              "      <td>133.407110</td>\n",
              "    </tr>\n",
              "    <tr>\n",
              "      <th>2</th>\n",
              "      <td>2023-01-05</td>\n",
              "      <td>127.129997</td>\n",
              "      <td>131.973075</td>\n",
              "    </tr>\n",
              "    <tr>\n",
              "      <th>3</th>\n",
              "      <td>2023-01-06</td>\n",
              "      <td>126.010002</td>\n",
              "      <td>131.325704</td>\n",
              "    </tr>\n",
              "    <tr>\n",
              "      <th>4</th>\n",
              "      <td>2023-01-09</td>\n",
              "      <td>130.470001</td>\n",
              "      <td>130.364139</td>\n",
              "    </tr>\n",
              "    <tr>\n",
              "      <th>...</th>\n",
              "      <td>...</td>\n",
              "      <td>...</td>\n",
              "      <td>...</td>\n",
              "    </tr>\n",
              "    <tr>\n",
              "      <th>71</th>\n",
              "      <td>2023-04-17</td>\n",
              "      <td>165.089996</td>\n",
              "      <td>164.579767</td>\n",
              "    </tr>\n",
              "    <tr>\n",
              "      <th>72</th>\n",
              "      <td>2023-04-18</td>\n",
              "      <td>166.100006</td>\n",
              "      <td>165.105044</td>\n",
              "    </tr>\n",
              "    <tr>\n",
              "      <th>73</th>\n",
              "      <td>2023-04-19</td>\n",
              "      <td>165.800004</td>\n",
              "      <td>165.614705</td>\n",
              "    </tr>\n",
              "    <tr>\n",
              "      <th>74</th>\n",
              "      <td>2023-04-20</td>\n",
              "      <td>166.089997</td>\n",
              "      <td>165.832875</td>\n",
              "    </tr>\n",
              "    <tr>\n",
              "      <th>75</th>\n",
              "      <td>2023-04-21</td>\n",
              "      <td>165.050004</td>\n",
              "      <td>165.990927</td>\n",
              "    </tr>\n",
              "  </tbody>\n",
              "</table>\n",
              "<p>76 rows × 3 columns</p>\n",
              "</div>"
            ],
            "text/plain": [
              "          Date  Actual_Open  Predicted_Open\n",
              "0   2023-01-03   130.279999      132.466228\n",
              "1   2023-01-04   126.889999      133.407110\n",
              "2   2023-01-05   127.129997      131.973075\n",
              "3   2023-01-06   126.010002      131.325704\n",
              "4   2023-01-09   130.470001      130.364139\n",
              "..         ...          ...             ...\n",
              "71  2023-04-17   165.089996      164.579767\n",
              "72  2023-04-18   166.100006      165.105044\n",
              "73  2023-04-19   165.800004      165.614705\n",
              "74  2023-04-20   166.089997      165.832875\n",
              "75  2023-04-21   165.050004      165.990927\n",
              "\n",
              "[76 rows x 3 columns]"
            ]
          },
          "execution_count": 28,
          "metadata": {},
          "output_type": "execute_result"
        }
      ],
      "source": [
        "# Inverse scale transform\n",
        "final_actual = scale_test_open.inverse_transform(actual)\n",
        "final_prediction = scale_test_open.inverse_transform(prediction.cpu())\n",
        "\n",
        "# Combine Actual with Predict\n",
        "output_df = pd.DataFrame(data={\"Date\":date.reshape(-1,),\n",
        "                               \"Actual_Open\":final_actual.reshape(-1,), \n",
        "                               \"Predicted_Open\":final_prediction.reshape(-1,)})\n",
        "output_df"
      ]
    },
    {
      "cell_type": "markdown",
      "id": "aac58c10",
      "metadata": {
        "id": "aac58c10"
      },
      "source": [
        "#### Calculate Model RMSE Loss"
      ]
    },
    {
      "cell_type": "code",
      "execution_count": null,
      "id": "70347698",
      "metadata": {
        "id": "70347698",
        "outputId": "899e9048-fb9b-410c-ea08-ec182f81b59e"
      },
      "outputs": [
        {
          "name": "stdout",
          "output_type": "stream",
          "text": [
            "MSE Loss: 20.554162979125977 \n",
            "RMSE Loss: 4.533669948577881\n",
            "\n",
            "MSE Loss: 20.554157029754418 \n",
            "RMSE Loss: 4.533669267795614\n",
            "\n"
          ]
        }
      ],
      "source": [
        "# Calculate Model RMSE Loss\n",
        "rmse_loss_np, mse_np = MSE_RMSE_loss_np(final_prediction, final_actual)"
      ]
    },
    {
      "cell_type": "markdown",
      "id": "933c15e3",
      "metadata": {
        "id": "933c15e3"
      },
      "source": [
        "#### Calculate Model R2"
      ]
    },
    {
      "cell_type": "code",
      "execution_count": null,
      "id": "c7fd1d08",
      "metadata": {
        "id": "c7fd1d08",
        "outputId": "4bc9e484-be41-48cd-b0f6-c678332adec8"
      },
      "outputs": [
        {
          "name": "stdout",
          "output_type": "stream",
          "text": [
            "R2: 0.8275553936749819\n",
            "\n",
            "R2: 0.8275553936749819\n",
            "\n"
          ]
        }
      ],
      "source": [
        "r2_np = R2_np(final_prediction, final_actual)"
      ]
    },
    {
      "cell_type": "markdown",
      "id": "52b9fd93",
      "metadata": {
        "id": "52b9fd93"
      },
      "source": [
        "### Save Model Forecast Results and Train Data Used"
      ]
    },
    {
      "cell_type": "code",
      "execution_count": null,
      "id": "443247cf",
      "metadata": {
        "id": "443247cf"
      },
      "outputs": [],
      "source": [
        "if not os.path.exists(\"dataset\"):\n",
        "    os.mkdir(\"dataset\")\n",
        "output_df.to_csv(\"dataset/outputMulti.csv\")\n",
        "traindata.to_csv(r\"dataset\\traindataMulti.csv\")"
      ]
    },
    {
      "cell_type": "code",
      "execution_count": null,
      "id": "cab43ac7",
      "metadata": {
        "id": "cab43ac7"
      },
      "outputs": [],
      "source": []
    }
  ],
  "metadata": {
    "kernelspec": {
      "display_name": "Python 3 (ipykernel)",
      "language": "python",
      "name": "python3"
    },
    "language_info": {
      "codemirror_mode": {
        "name": "ipython",
        "version": 3
      },
      "file_extension": ".py",
      "mimetype": "text/x-python",
      "name": "python",
      "nbconvert_exporter": "python",
      "pygments_lexer": "ipython3",
      "version": "3.9.16"
    },
    "colab": {
      "provenance": []
    }
  },
  "nbformat": 4,
  "nbformat_minor": 5
}